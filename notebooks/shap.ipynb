{
 "cells": [
  {
   "cell_type": "code",
   "execution_count": null,
   "metadata": {},
   "outputs": [],
   "source": [
    "from pygoridge import RPC, SocketRelay\n",
    "import numpy as np\n",
    "from pygoridge.constants import PayloadType\n",
    "import pandas as pd\n",
    "import shap\n",
    "import json\n",
    "\n",
    "# Run go run .\\cmd\\generate_dataset\\main.go at least once before running this notebook, so that \"dataset_AI_Random_7.csv\" exists!\n",
    "real_game_dataset = pd.read_csv('dataset_AI_Random_7.csv')\n",
    "\n",
    "# Run go run .\\cmd\\inference-rpc-bridge\\main.go before running this notebook! \n",
    "rpc = RPC(SocketRelay(\"127.0.0.1\", 6001))\n",
    "\n",
    "# Little \"hack\" so that numpy writes to memory instead of saving to disk.\n",
    "# I did not find any way to get this format as a variable instead of a file on disk\n",
    "# And I did not want to have the overhead of writing to disk\n",
    "class memfile:\n",
    "    def __init__(self):\n",
    "        self.b = []\n",
    "    def write(self, b):\n",
    "        self.b += b\n",
    "    def asbytes(self):\n",
    "        return bytes(self.b)\n",
    "\n",
    "def go_ur_ai_numpy(x):\n",
    "    mm = memfile()\n",
    "    np.save(mm, x)\n",
    "    return np.array(json.loads(rpc(\"GoUr.InferNumpy\", mm.asbytes(), PayloadType.PAYLOAD_RAW)))\n"
   ]
  },
  {
   "cell_type": "code",
   "execution_count": null,
   "metadata": {},
   "outputs": [],
   "source": [
    "real_game_dataset.columns = [f'{col}_pos_{i+2}' for i, col in enumerate(real_game_dataset.columns)]\n",
    "\n",
    "n_samples = 100\n",
    "bg_values = real_game_dataset.sample(10)\n",
    "data_sample = real_game_dataset.sample(n_samples)\n",
    "\n",
    "explainer = shap.KernelExplainer(go_ur_ai_numpy, bg_values, link=\"logit\")\n",
    "shap_values = explainer.shap_values(data_sample, n_samples=n_samples)"
   ]
  },
  {
   "cell_type": "markdown",
   "metadata": {},
   "source": [
    "## Force plot\n",
    "\n",
    "This shows the shap force plot of a single dice throw"
   ]
  },
  {
   "cell_type": "code",
   "execution_count": null,
   "metadata": {},
   "outputs": [],
   "source": [
    "shap.initjs()\n",
    "shap.force_plot(explainer.expected_value, shap_values[18], data_sample.iloc[18], link=\"logit\")"
   ]
  },
  {
   "cell_type": "code",
   "execution_count": null,
   "metadata": {},
   "outputs": [],
   "source": [
    "df_shap = pd.DataFrame(shap_values)\n",
    "avg_abs_shap_values = pd.Series(df_shap.abs().mean())\n",
    "var_shap_values = pd.Series(df_shap.var())\n",
    "min_shap_values = pd.Series(df_shap.min())\n",
    "max_shap_values = pd.Series(df_shap.max())\n",
    "\n",
    "shap_columns = pd.DataFrame({\n",
    "    'Column': data_sample.columns,\n",
    "    'Average Absolute Shap': avg_abs_shap_values,\n",
    "    'Variance Shap': var_shap_values,\n",
    "    'Min Shap': min_shap_values,\n",
    "    'Max Shap': max_shap_values,\n",
    "}).set_index('Column').sort_values('Average Absolute Shap', ascending=False)\n",
    "shap_columns"
   ]
  },
  {
   "cell_type": "code",
   "execution_count": null,
   "metadata": {},
   "outputs": [],
   "source": [
    "shap.decision_plot(explainer.expected_value, shap_values, data_sample, link='logit', feature_display_range=slice(None, -100, -1))"
   ]
  },
  {
   "cell_type": "markdown",
   "metadata": {},
   "source": [
    "## Analysis of strongly positive moves"
   ]
  },
  {
   "cell_type": "code",
   "execution_count": null,
   "metadata": {},
   "outputs": [],
   "source": [
    "y = go_ur_ai_numpy(data_sample.values)"
   ]
  },
  {
   "cell_type": "code",
   "execution_count": null,
   "metadata": {},
   "outputs": [],
   "source": [
    "y = pd.Series(y)"
   ]
  },
  {
   "cell_type": "code",
   "execution_count": null,
   "metadata": {},
   "outputs": [],
   "source": [
    "good_scores_mask = y > 0.1\n",
    "good_scores_mask.sum()"
   ]
  },
  {
   "cell_type": "code",
   "execution_count": null,
   "metadata": {},
   "outputs": [],
   "source": [
    "good_scores = data_sample.reset_index(drop=True)[good_scores_mask]\n",
    "good_scores"
   ]
  },
  {
   "cell_type": "code",
   "execution_count": null,
   "metadata": {},
   "outputs": [],
   "source": [
    "shap.decision_plot(explainer.expected_value, shap_values[good_scores_mask], good_scores, feature_display_range=slice(None, -100, -1), link=\"logit\")"
   ]
  }
 ],
 "metadata": {
  "interpreter": {
   "hash": "2be5faf79681da6f2a61fdfdd5405d65d042280f7fba6178067603e3a2925119"
  },
  "kernelspec": {
   "display_name": "Python 3.10.2 64-bit",
   "language": "python",
   "name": "python3"
  },
  "language_info": {
   "codemirror_mode": {
    "name": "ipython",
    "version": 3
   },
   "file_extension": ".py",
   "mimetype": "text/x-python",
   "name": "python",
   "nbconvert_exporter": "python",
   "pygments_lexer": "ipython3",
   "version": "3.10.2"
  },
  "orig_nbformat": 4
 },
 "nbformat": 4,
 "nbformat_minor": 2
}
