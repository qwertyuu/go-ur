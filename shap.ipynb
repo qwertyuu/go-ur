{
 "cells": [
  {
   "cell_type": "code",
   "execution_count": null,
   "metadata": {},
   "outputs": [],
   "source": [
    "from pygoridge import RPC, SocketRelay\n",
    "import numpy as np\n",
    "import json\n",
    "from pygoridge.constants import PayloadType\n",
    "import csv\n",
    "from numpy import genfromtxt\n",
    "import shap\n",
    "my_data = genfromtxt('dataset_AI_Random_7.csv',delimiter=',', skip_header=1)\n",
    "\n",
    "rpc = RPC(SocketRelay(\"127.0.0.1\", 6001))\n",
    "\n",
    "class memfile:\n",
    "    def __init__(self):\n",
    "        self.b = []\n",
    "    def write(self, b):\n",
    "        self.b += b\n",
    "    def asbytes(self):\n",
    "        return bytes(self.b)\n",
    "\n",
    "\n",
    "def go_ur_ai_numpy(x):\n",
    "    mm = memfile()\n",
    "    np.save(mm, x)\n",
    "    return np.array(json.loads(rpc(\"GoUr.InferNumpy\", mm.asbytes(), PayloadType.PAYLOAD_RAW)))\n",
    "\n",
    "with open('dataset_AI_Random_7.csv', 'r') as f:\n",
    "    csv_reader = csv.reader(f)\n",
    "    header = []\n",
    "    for row in csv_reader:\n",
    "        header = row\n",
    "        break\n",
    "\n",
    "#print(my_data)\n",
    "print(go_ur_ai_numpy(my_data))\n",
    "\n",
    "explainer = shap.KernelExplainer(go_ur_ai_numpy, my_data[:10], link=\"logit\")\n",
    "shap_values = explainer.shap_values(my_data[:100], nsamples=100)"
   ]
  },
  {
   "cell_type": "code",
   "execution_count": null,
   "metadata": {},
   "outputs": [],
   "source": [
    "shap.initjs()\n",
    "my_data_df = pd.DataFrame(my_data)\n",
    "my_data_df.columns = header\n",
    "shap.force_plot(explainer.expected_value, shap_values[1, :], my_data_df.iloc[1, :], link=\"logit\")\n"
   ]
  },
  {
   "cell_type": "code",
   "execution_count": null,
   "metadata": {},
   "outputs": [],
   "source": [
    "import pandas as pd\n",
    "s = pd.Series(pd.DataFrame(shap_values).abs().mean())\n",
    "df = pd.DataFrame(s)\n",
    "df.index = header\n",
    "df.sort_values(0, ascending=False)"
   ]
  }
 ],
 "metadata": {
  "interpreter": {
   "hash": "2be5faf79681da6f2a61fdfdd5405d65d042280f7fba6178067603e3a2925119"
  },
  "kernelspec": {
   "display_name": "Python 3.10.2 64-bit",
   "language": "python",
   "name": "python3"
  },
  "language_info": {
   "codemirror_mode": {
    "name": "ipython",
    "version": 3
   },
   "file_extension": ".py",
   "mimetype": "text/x-python",
   "name": "python",
   "nbconvert_exporter": "python",
   "pygments_lexer": "ipython3",
   "version": "3.10.2"
  },
  "orig_nbformat": 4
 },
 "nbformat": 4,
 "nbformat_minor": 2
}
