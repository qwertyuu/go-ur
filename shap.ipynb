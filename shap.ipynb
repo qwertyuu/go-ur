{
 "cells": [
  {
   "cell_type": "code",
   "execution_count": null,
   "metadata": {},
   "outputs": [],
   "source": [
    "from pygoridge import RPC, SocketRelay\n",
    "import numpy as np\n",
    "import json\n",
    "from pygoridge.constants import PayloadType\n",
    "import csv\n",
    "from numpy import genfromtxt\n",
    "import pandas as pd\n",
    "import shap\n",
    "my_data = genfromtxt('dataset_AI_Random_7.csv',delimiter=',', skip_header=1)\n",
    "\n",
    "rpc = RPC(SocketRelay(\"127.0.0.1\", 6001))\n",
    "\n",
    "class memfile:\n",
    "    def __init__(self):\n",
    "        self.b = []\n",
    "    def write(self, b):\n",
    "        self.b += b\n",
    "    def asbytes(self):\n",
    "        return bytes(self.b)\n",
    "\n",
    "\n",
    "def go_ur_ai_numpy(x):\n",
    "    mm = memfile()\n",
    "    np.save(mm, x)\n",
    "    return np.array(json.loads(rpc(\"GoUr.InferNumpy\", mm.asbytes(), PayloadType.PAYLOAD_RAW)))\n",
    "\n",
    "with open('dataset_AI_Random_7.csv', 'r') as f:\n",
    "    csv_reader = csv.reader(f)\n",
    "    header = []\n",
    "    for row in csv_reader:\n",
    "        header = row\n",
    "        break\n",
    "\n",
    "#print(my_data)\n",
    "#print(go_ur_ai_numpy(my_data))\n",
    "\n",
    "header = [f'{col}_pos_{i+2}' for i, col in enumerate(header)]\n",
    "\n",
    "my_data_df = pd.DataFrame(my_data)\n",
    "my_data_df.columns = header\n",
    "\n",
    "n_samples = 500\n",
    "bg_values = my_data_df.sample(10)\n",
    "data_sample = my_data_df.sample(n_samples)\n",
    "\n",
    "explainer = shap.KernelExplainer(go_ur_ai_numpy, bg_values, link=\"logit\")\n",
    "shap_values = explainer.shap_values(data_sample, nsamples=n_samples)"
   ]
  },
  {
   "cell_type": "code",
   "execution_count": null,
   "metadata": {},
   "outputs": [],
   "source": [
    "shap.initjs()\n",
    "\n",
    "shap.force_plot(explainer.expected_value, shap_values[1], data_sample.iloc[1], link=\"logit\")\n"
   ]
  },
  {
   "cell_type": "code",
   "execution_count": null,
   "metadata": {},
   "outputs": [],
   "source": [
    "df_shap = pd.DataFrame(shap_values)\n",
    "avg_abs_shap_values = pd.Series(df_shap.abs().mean())\n",
    "var_shap_values = pd.Series(df_shap.var())\n",
    "min_shap_values = pd.Series(df_shap.min())\n",
    "max_shap_values = pd.Series(df_shap.max())\n",
    "\n",
    "shap_columns = pd.DataFrame({\n",
    "    'Column': data_sample.columns, \n",
    "    'Average Absolute Shap': avg_abs_shap_values, \n",
    "    'Variance Shap': var_shap_values, \n",
    "    'Min Shap': min_shap_values, \n",
    "    'Max Shap': max_shap_values,\n",
    "}).set_index('Column').sort_values('Average Absolute Shap', ascending=False)\n",
    "shap_columns"
   ]
  },
  {
   "cell_type": "code",
   "execution_count": null,
   "metadata": {},
   "outputs": [],
   "source": [
    "shap.decision_plot(explainer.expected_value, shap_values, data_sample, link='logit', feature_display_range=slice(None, -50, -1))"
   ]
  },
  {
   "cell_type": "code",
   "execution_count": null,
   "metadata": {},
   "outputs": [],
   "source": [
    "y = go_ur_ai_numpy(data_sample.values)"
   ]
  },
  {
   "cell_type": "code",
   "execution_count": null,
   "metadata": {},
   "outputs": [],
   "source": [
    "y = pd.Series(y)"
   ]
  },
  {
   "cell_type": "code",
   "execution_count": null,
   "metadata": {},
   "outputs": [],
   "source": [
    "good_scores_mask = y > 0.5\n",
    "good_scores_mask.sum()"
   ]
  },
  {
   "cell_type": "code",
   "execution_count": null,
   "metadata": {},
   "outputs": [],
   "source": [
    "data_sample.reset_index(drop=True)[good_scores_mask]"
   ]
  },
  {
   "cell_type": "code",
   "execution_count": null,
   "metadata": {},
   "outputs": [],
   "source": [
    "shap.decision_plot(explainer.expected_value, shap_values[good_scores_mask], data_sample.reset_index(drop=True)[good_scores_mask], feature_display_range=slice(None, -100, -1))"
   ]
  },
  {
   "cell_type": "code",
   "execution_count": null,
   "metadata": {},
   "outputs": [],
   "source": [
    "shap.decision_plot(explainer.expected_value, shap_values[good_scores_mask], data_sample.reset_index(drop=True)[good_scores_mask], feature_display_range=slice(None, -100, -1), link=\"logit\")"
   ]
  }
 ],
 "metadata": {
  "interpreter": {
   "hash": "2be5faf79681da6f2a61fdfdd5405d65d042280f7fba6178067603e3a2925119"
  },
  "kernelspec": {
   "display_name": "Python 3.10.2 64-bit",
   "language": "python",
   "name": "python3"
  },
  "language_info": {
   "codemirror_mode": {
    "name": "ipython",
    "version": 3
   },
   "file_extension": ".py",
   "mimetype": "text/x-python",
   "name": "python",
   "nbconvert_exporter": "python",
   "pygments_lexer": "ipython3",
   "version": "3.10.2"
  },
  "orig_nbformat": 4
 },
 "nbformat": 4,
 "nbformat_minor": 2
}
